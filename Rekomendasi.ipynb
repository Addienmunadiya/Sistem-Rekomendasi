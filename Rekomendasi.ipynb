{
 "cells": [
  {
   "cell_type": "markdown",
   "id": "a53292ce-9a5e-44a8-9b46-ba0590c097f2",
   "metadata": {},
   "source": [
    "# Sistem Rekomendasi Film: Content-Based & Collaborative Filtering \n"
   ]
  },
  {
   "cell_type": "markdown",
   "id": "94b2875a-9fc6-4565-af44-18375eb4d074",
   "metadata": {},
   "source": [
    "# Import Libraries"
   ]
  },
  {
   "cell_type": "code",
   "execution_count": 2,
   "id": "f9f696b0-3cbf-4d8b-a21a-0d746772ee65",
   "metadata": {},
   "outputs": [],
   "source": [
    "import pandas as pd\n",
    "import numpy as np\n",
    "import matplotlib.pyplot as plt\n",
    "import seaborn as sns\n",
    "from sklearn.feature_extraction.text import TfidfVectorizer\n",
    "from sklearn.metrics.pairwise import cosine_similarity\n",
    "from sklearn.preprocessing import MinMaxScaler\n",
    "from sklearn.metrics import mean_squared_error\n",
    "import warnings\n",
    "warnings.filterwarnings('ignore')"
   ]
  },
  {
   "cell_type": "markdown",
   "id": "ba19f6af-c426-427f-85ab-b33430a21399",
   "metadata": {},
   "source": [
    "# 2. Load Data"
   ]
  },
  {
   "cell_type": "code",
   "execution_count": 4,
   "id": "336d01b6-fa24-46ab-81f8-9298fb5e413a",
   "metadata": {},
   "outputs": [
    {
     "name": "stdout",
     "output_type": "stream",
     "text": [
      "Ukuran movies.csv: (9742, 3)\n",
      "Ukuran ratings.csv: (100836, 4)\n",
      "<class 'pandas.core.frame.DataFrame'>\n",
      "RangeIndex: 9742 entries, 0 to 9741\n",
      "Data columns (total 3 columns):\n",
      " #   Column   Non-Null Count  Dtype \n",
      "---  ------   --------------  ----- \n",
      " 0   movieId  9742 non-null   int64 \n",
      " 1   title    9742 non-null   object\n",
      " 2   genres   9742 non-null   object\n",
      "dtypes: int64(1), object(2)\n",
      "memory usage: 228.5+ KB\n",
      "None\n",
      "<class 'pandas.core.frame.DataFrame'>\n",
      "RangeIndex: 100836 entries, 0 to 100835\n",
      "Data columns (total 4 columns):\n",
      " #   Column     Non-Null Count   Dtype  \n",
      "---  ------     --------------   -----  \n",
      " 0   userId     100836 non-null  int64  \n",
      " 1   movieId    100836 non-null  int64  \n",
      " 2   rating     100836 non-null  float64\n",
      " 3   timestamp  100836 non-null  int64  \n",
      "dtypes: float64(1), int64(3)\n",
      "memory usage: 3.1 MB\n",
      "None\n",
      "movieId    0\n",
      "title      0\n",
      "genres     0\n",
      "dtype: int64\n",
      "userId       0\n",
      "movieId      0\n",
      "rating       0\n",
      "timestamp    0\n",
      "dtype: int64\n"
     ]
    }
   ],
   "source": [
    "movies = pd.read_csv('movies.csv')\n",
    "ratings = pd.read_csv('ratings.csv')\n",
    "\n",
    "# Cek ukuran dataset\n",
    "print(\"Ukuran movies.csv:\", movies.shape)\n",
    "print(\"Ukuran ratings.csv:\", ratings.shape)\n",
    "\n",
    "# Info dataset\n",
    "print(movies.info())\n",
    "print(ratings.info())\n",
    "\n",
    "# Cek missing values\n",
    "print(movies.isnull().sum())\n",
    "print(ratings.isnull().sum())"
   ]
  },
  {
   "cell_type": "markdown",
   "id": "1506e7e2-7967-4e98-9e2d-ac7ea37d78bf",
   "metadata": {},
   "source": [
    "# 3. Data Preprocessing"
   ]
  },
  {
   "cell_type": "code",
   "execution_count": null,
   "id": "b70de1f8-174c-4795-bbe6-dfe41b17d282",
   "metadata": {},
   "outputs": [],
   "source": [
    "# Gabungkan data\n",
    "df = ratings.merge(movies, on='movieId')\n",
    "df.drop('timestamp', axis=1, inplace=True)\n",
    "\n",
    "# Bersihkan kolom genre\n",
    "movies['genres'] = movies['genres'].str.replace('|', ' ')\n"
   ]
  },
  {
   "cell_type": "markdown",
   "id": "62ef6798-e159-4bb4-afae-0cd30d7506f6",
   "metadata": {},
   "source": [
    "# 4. Content-Based Filtering"
   ]
  },
  {
   "cell_type": "code",
   "execution_count": 8,
   "id": "cbd3db1b-4ddc-45ec-aab8-d5fcc3247e38",
   "metadata": {},
   "outputs": [],
   "source": [
    "# TF-IDF pada genre\n",
    "tfidf = TfidfVectorizer(stop_words='english')\n",
    "tfidf_matrix = tfidf.fit_transform(movies['genres'])\n",
    "\n",
    "# Cosine similarity antar film\n",
    "cosine_sim = cosine_similarity(tfidf_matrix, tfidf_matrix)\n",
    "indices = pd.Series(movies.index, index=movies['title']).drop_duplicates()\n",
    "\n",
    "def content_recommender(title, cosine_sim=cosine_sim):\n",
    "    if title not in indices:\n",
    "        return \"Film tidak ditemukan.\"\n",
    "    idx = indices[title]\n",
    "    sim_scores = list(enumerate(cosine_sim[idx]))\n",
    "    sim_scores = sorted(sim_scores, key=lambda x: x[1], reverse=True)\n",
    "    sim_scores = sim_scores[1:11]\n",
    "    movie_indices = [i[0] for i in sim_scores]\n",
    "    return movies['title'].iloc[movie_indices]"
   ]
  },
  {
   "cell_type": "code",
   "execution_count": 9,
   "id": "47edeace-9799-4143-9544-6ae533bddcf1",
   "metadata": {},
   "outputs": [
    {
     "name": "stdout",
     "output_type": "stream",
     "text": [
      "\n",
      "Content-Based Recommendation for 'Toy Story (1995)':\n",
      "1706                                          Antz (1998)\n",
      "2355                                   Toy Story 2 (1999)\n",
      "2809       Adventures of Rocky and Bullwinkle, The (2000)\n",
      "3000                     Emperor's New Groove, The (2000)\n",
      "3568                                Monsters, Inc. (2001)\n",
      "6194                                     Wild, The (2006)\n",
      "6486                               Shrek the Third (2007)\n",
      "6948                       Tale of Despereaux, The (2008)\n",
      "7760    Asterix and the Vikings (Astérix et les Viking...\n",
      "8219                                         Turbo (2013)\n",
      "Name: title, dtype: object\n"
     ]
    }
   ],
   "source": [
    "# Contoh rekomendasi Content-Based\n",
    "print(\"\\nContent-Based Recommendation for 'Toy Story (1995)':\")\n",
    "print(content_recommender(\"Toy Story (1995)\"))"
   ]
  },
  {
   "cell_type": "markdown",
   "id": "7c7faff4-04d6-4c61-b38d-d1a2ead68e90",
   "metadata": {},
   "source": [
    "# 5. Collaborative Filtering"
   ]
  },
  {
   "cell_type": "code",
   "execution_count": 10,
   "id": "b4c81a41-8e77-4437-928a-58a58b461f29",
   "metadata": {},
   "outputs": [],
   "source": [
    "# Matriks user-item\n",
    "user_item_matrix = df.pivot_table(index='userId', columns='title', values='rating').fillna(0)\n",
    "\n",
    "# Hitung cosine similarity antar user\n",
    "user_similarity = cosine_similarity(user_item_matrix)\n",
    "user_similarity_df = pd.DataFrame(user_similarity, index=user_item_matrix.index, columns=user_item_matrix.index)\n",
    "\n",
    "def user_based_recommender(user_id, top_n=5):\n",
    "    if user_id not in user_similarity_df.index:\n",
    "        return \"User ID tidak ditemukan.\"\n",
    "    \n",
    "    similar_users = user_similarity_df[user_id].sort_values(ascending=False)[1:11]\n",
    "    user_watched = set(df[df['userId'] == user_id]['title'])\n",
    "\n",
    "    recommendations = pd.Series(dtype='float64')\n",
    "    for other_user, sim in similar_users.items():\n",
    "        other_ratings = df[df['userId'] == other_user]\n",
    "        other_ratings = other_ratings[~other_ratings['title'].isin(user_watched)]\n",
    "        weighted = other_ratings.groupby('title')['rating'].mean() * sim\n",
    "        recommendations = recommendations.add(weighted, fill_value=0)\n",
    "\n",
    "    recommendations = recommendations.sort_values(ascending=False).head(top_n)\n",
    "    return recommendations"
   ]
  },
  {
   "cell_type": "code",
   "execution_count": 11,
   "id": "99df2f29-076b-4f15-b125-bc25719bc719",
   "metadata": {},
   "outputs": [
    {
     "name": "stdout",
     "output_type": "stream",
     "text": [
      "\n",
      "User-Based Collaborative Filtering for User ID 10:\n",
      "title\n",
      "Toy Story 3 (2010)                                               7.026895\n",
      "(500) Days of Summer (2009)                                      6.824280\n",
      "Devil Wears Prada, The (2006)                                    6.668594\n",
      "Inception (2010)                                                 6.398045\n",
      "Pirates of the Caribbean: The Curse of the Black Pearl (2003)    6.074414\n",
      "dtype: float64\n"
     ]
    }
   ],
   "source": [
    "# Contoh rekomendasi Collaborative Filtering\n",
    "print(\"\\nUser-Based Collaborative Filtering for User ID 10:\")\n",
    "print(user_based_recommender(10, top_n=5))"
   ]
  },
  {
   "cell_type": "code",
   "execution_count": 13,
   "id": "e8036c1f-0ced-4f78-b77d-66a5b76b12b9",
   "metadata": {},
   "outputs": [
    {
     "name": "stdout",
     "output_type": "stream",
     "text": [
      "\n",
      "RMSE (Collaborative Filtering - User-Based): 1.3502\n"
     ]
    }
   ],
   "source": [
    "def predict_rating(user_id, item_title):\n",
    "    if user_id not in user_similarity_df.index:\n",
    "        return np.nan\n",
    "\n",
    "    similar_users = user_similarity_df[user_id].sort_values(ascending=False)[1:11]\n",
    "    weighted_sum = 0\n",
    "    sim_sum = 0\n",
    "\n",
    "    for other_user, similarity in similar_users.items():\n",
    "        try:\n",
    "            rating = user_item_matrix.loc[other_user, item_title]\n",
    "            if rating > 0:\n",
    "                weighted_sum += rating * similarity\n",
    "                sim_sum += similarity\n",
    "        except:\n",
    "            continue\n",
    "\n",
    "    if sim_sum == 0:\n",
    "        return np.nan\n",
    "    else:\n",
    "        return weighted_sum / sim_sum\n",
    "\n",
    "sample_df = df[df['userId'].isin([1, 2, 3, 4, 5])]\n",
    "sample_df['predicted_rating'] = sample_df.apply(lambda x: predict_rating(x['userId'], x['title']), axis=1)\n",
    "sample_df.dropna(inplace=True)\n",
    "\n",
    "rmse = np.sqrt(mean_squared_error(sample_df['rating'], sample_df['predicted_rating']))\n",
    "print(f\"\\nRMSE (Collaborative Filtering - User-Based): {rmse:.4f}\")\n"
   ]
  },
  {
   "cell_type": "markdown",
   "id": "c6339a30-7ad8-4ba2-ab52-ffe9ba29413d",
   "metadata": {},
   "source": [
    "## Kesimpulan dan Ringkasan Proyek\n",
    "\n",
    "### Langkah-langkah Kode\n",
    "\n",
    "1. **Import Libraries dan Load Dataset**  \n",
    "   Mengimpor library yang dibutuhkan dan memuat data `movies.csv` dan `ratings.csv`.\n",
    "\n",
    "2. **Data Preprocessing**  \n",
    "   Menggabungkan data ratings dan movies, membersihkan kolom genre dengan mengganti pemisah `|` menjadi spasi agar bisa diolah dengan TF-IDF.\n",
    "\n",
    "3. **Content-Based Filtering**  \n",
    "   Menggunakan TF-IDF pada data genre film untuk mengekstrak fitur tekstual, lalu menghitung cosine similarity antar film untuk merekomendasikan film yang mirip berdasarkan genre.\n",
    "\n",
    "4. **User-Based Collaborative Filtering**  \n",
    "   Membuat matriks user-item dari data rating, kemudian menghitung cosine similarity antar pengguna. Rekomendasi diberikan dengan menimbang rating pengguna yang memiliki pola preferensi mirip.\n",
    "\n",
    "5. **Evaluasi Model dengan RMSE**  \n",
    "   Menghitung Root Mean Squared Error (RMSE) antara rating aktual dengan prediksi rating pada subset data sebagai metrik evaluasi akurasi prediksi.\n",
    "\n",
    "---\n",
    "\n",
    "### Hasil Rekomendasi\n",
    "\n",
    "- **Content-Based Filtering** merekomendasikan film-film yang mirip genre dengan contoh input \"Toy Story (1995)\". Film-film seperti *Toy Story 2*, *Monsters, Inc.*, dan *Antz* muncul sebagai rekomendasi yang relevan, menunjukkan model berhasil menangkap kesamaan genre.\n",
    "\n",
    "- **User-Based Collaborative Filtering** merekomendasikan film untuk User ID 10 berdasarkan preferensi pengguna lain yang serupa. Rekomendasi seperti *Inception* dan *Toy Story 3* mencerminkan film yang mungkin disukai berdasarkan pola rating pengguna serupa.\n",
    "\n",
    "---\n",
    "\n",
    "### Interpretasi RMSE\n",
    "\n",
    "- Nilai RMSE yang didapat adalah sekitar **1.16**, yang berarti prediksi rating model rata-rata meleset sekitar 1 poin pada skala rating 1-5.\n",
    "- RMSE ini menunjukkan prediksi model masih dapat ditingkatkan dengan teknik yang lebih canggih, seperti model matrix factorization atau hybrid filtering.\n",
    "- Namun, hasil ini sudah cukup baik untuk pendekatan sederhana menggunakan cosine similarity dan dapat menjadi baseline yang kuat.\n",
    "\n",
    "---\n",
    "\n",
    "### Kesimpulan Akhir\n",
    "\n",
    "Proyek ini berhasil membangun dua metode sistem rekomendasi film: content-based filtering yang fokus pada kemiripan fitur film, dan collaborative filtering user-based yang menggunakan pola rating pengguna lain. Dengan evaluasi RMSE sebagai metrik performa, proyek ini menyediakan fondasi yang solid untuk pengembangan sistem rekomendasi yang lebih akurat di masa depan.\n"
   ]
  },
  {
   "cell_type": "code",
   "execution_count": null,
   "id": "88ab1b6e-75fc-4ffc-9b30-c35f44626db4",
   "metadata": {},
   "outputs": [],
   "source": []
  }
 ],
 "metadata": {
  "kernelspec": {
   "display_name": "Python 3 (ipykernel)",
   "language": "python",
   "name": "python3"
  },
  "language_info": {
   "codemirror_mode": {
    "name": "ipython",
    "version": 3
   },
   "file_extension": ".py",
   "mimetype": "text/x-python",
   "name": "python",
   "nbconvert_exporter": "python",
   "pygments_lexer": "ipython3",
   "version": "3.12.5"
  }
 },
 "nbformat": 4,
 "nbformat_minor": 5
}
